{
 "cells": [
  {
   "cell_type": "code",
   "execution_count": 1,
   "id": "5ffd7633-37b8-4c00-a36d-713548c3909a",
   "metadata": {},
   "outputs": [],
   "source": [
    "import pandas as pd \n",
    "import numpy as np \n",
    "import matplotlib.pyplot as plt \n",
    "import seaborn as sns \n",
    "\n",
    "sns.set_style(\"darkgrid\")"
   ]
  },
  {
   "cell_type": "code",
   "execution_count": 2,
   "id": "67edd631-079e-4067-be35-175fc822eebd",
   "metadata": {},
   "outputs": [],
   "source": [
    "df = pd.read_csv(\"C:/Users/User/Documents/Data Analytics/vgsales/vgsales.csv\")"
   ]
  },
  {
   "cell_type": "markdown",
   "id": "b85754f4-27c5-4904-bd73-df62065bfa7a",
   "metadata": {},
   "source": [
    "# Step 1: Understanding The Data\n",
    "\n",
    "- Head and Tail\n",
    "- shape\n",
    "- dtypes\n",
    "- coulmns\n",
    "- describe"
   ]
  },
  {
   "cell_type": "code",
   "execution_count": 4,
   "id": "b6245bdf-7c61-4aff-a888-77e88d6c6d81",
   "metadata": {},
   "outputs": [
    {
     "data": {
      "text/html": [
       "<div>\n",
       "<style scoped>\n",
       "    .dataframe tbody tr th:only-of-type {\n",
       "        vertical-align: middle;\n",
       "    }\n",
       "\n",
       "    .dataframe tbody tr th {\n",
       "        vertical-align: top;\n",
       "    }\n",
       "\n",
       "    .dataframe thead th {\n",
       "        text-align: right;\n",
       "    }\n",
       "</style>\n",
       "<table border=\"1\" class=\"dataframe\">\n",
       "  <thead>\n",
       "    <tr style=\"text-align: right;\">\n",
       "      <th></th>\n",
       "      <th>Rank</th>\n",
       "      <th>Name</th>\n",
       "      <th>Platform</th>\n",
       "      <th>Year</th>\n",
       "      <th>Genre</th>\n",
       "      <th>Publisher</th>\n",
       "      <th>NA_Sales</th>\n",
       "      <th>EU_Sales</th>\n",
       "      <th>JP_Sales</th>\n",
       "      <th>Other_Sales</th>\n",
       "      <th>Global_Sales</th>\n",
       "    </tr>\n",
       "  </thead>\n",
       "  <tbody>\n",
       "    <tr>\n",
       "      <th>0</th>\n",
       "      <td>1</td>\n",
       "      <td>Wii Sports</td>\n",
       "      <td>Wii</td>\n",
       "      <td>2006.0</td>\n",
       "      <td>Sports</td>\n",
       "      <td>Nintendo</td>\n",
       "      <td>41.49</td>\n",
       "      <td>29.02</td>\n",
       "      <td>3.77</td>\n",
       "      <td>8.46</td>\n",
       "      <td>82.74</td>\n",
       "    </tr>\n",
       "    <tr>\n",
       "      <th>1</th>\n",
       "      <td>2</td>\n",
       "      <td>Super Mario Bros.</td>\n",
       "      <td>NES</td>\n",
       "      <td>1985.0</td>\n",
       "      <td>Platform</td>\n",
       "      <td>Nintendo</td>\n",
       "      <td>29.08</td>\n",
       "      <td>3.58</td>\n",
       "      <td>6.81</td>\n",
       "      <td>0.77</td>\n",
       "      <td>40.24</td>\n",
       "    </tr>\n",
       "    <tr>\n",
       "      <th>2</th>\n",
       "      <td>3</td>\n",
       "      <td>Mario Kart Wii</td>\n",
       "      <td>Wii</td>\n",
       "      <td>2008.0</td>\n",
       "      <td>Racing</td>\n",
       "      <td>Nintendo</td>\n",
       "      <td>15.85</td>\n",
       "      <td>12.88</td>\n",
       "      <td>3.79</td>\n",
       "      <td>3.31</td>\n",
       "      <td>35.82</td>\n",
       "    </tr>\n",
       "    <tr>\n",
       "      <th>3</th>\n",
       "      <td>4</td>\n",
       "      <td>Wii Sports Resort</td>\n",
       "      <td>Wii</td>\n",
       "      <td>2009.0</td>\n",
       "      <td>Sports</td>\n",
       "      <td>Nintendo</td>\n",
       "      <td>15.75</td>\n",
       "      <td>11.01</td>\n",
       "      <td>3.28</td>\n",
       "      <td>2.96</td>\n",
       "      <td>33.00</td>\n",
       "    </tr>\n",
       "    <tr>\n",
       "      <th>4</th>\n",
       "      <td>5</td>\n",
       "      <td>Pokemon Red/Pokemon Blue</td>\n",
       "      <td>GB</td>\n",
       "      <td>1996.0</td>\n",
       "      <td>Role-Playing</td>\n",
       "      <td>Nintendo</td>\n",
       "      <td>11.27</td>\n",
       "      <td>8.89</td>\n",
       "      <td>10.22</td>\n",
       "      <td>1.00</td>\n",
       "      <td>31.37</td>\n",
       "    </tr>\n",
       "  </tbody>\n",
       "</table>\n",
       "</div>"
      ],
      "text/plain": [
       "   Rank                      Name Platform    Year         Genre Publisher  \\\n",
       "0     1                Wii Sports      Wii  2006.0        Sports  Nintendo   \n",
       "1     2         Super Mario Bros.      NES  1985.0      Platform  Nintendo   \n",
       "2     3            Mario Kart Wii      Wii  2008.0        Racing  Nintendo   \n",
       "3     4         Wii Sports Resort      Wii  2009.0        Sports  Nintendo   \n",
       "4     5  Pokemon Red/Pokemon Blue       GB  1996.0  Role-Playing  Nintendo   \n",
       "\n",
       "   NA_Sales  EU_Sales  JP_Sales  Other_Sales  Global_Sales  \n",
       "0     41.49     29.02      3.77         8.46         82.74  \n",
       "1     29.08      3.58      6.81         0.77         40.24  \n",
       "2     15.85     12.88      3.79         3.31         35.82  \n",
       "3     15.75     11.01      3.28         2.96         33.00  \n",
       "4     11.27      8.89     10.22         1.00         31.37  "
      ]
     },
     "execution_count": 4,
     "metadata": {},
     "output_type": "execute_result"
    }
   ],
   "source": [
    "# Head \n",
    "\n",
    "df.head()"
   ]
  },
  {
   "cell_type": "markdown",
   "id": "aec01c87-9a08-417d-ba70-656563adad18",
   "metadata": {},
   "source": [
    "## Features:\n",
    "`Rank` - Ranking of overall sales\n",
    "\n",
    "`Name` - The games name\n",
    "\n",
    "`Platform` - Platform of the games release ( PC,PS4)\n",
    "\n",
    "`Year` - Year of the game's release\n",
    "\n",
    "`Genre` - Genre of the game\n",
    "\n",
    "`Publisher` - Publisher of the game\n",
    "\n",
    "`NA_Sales` - Sales in North America (in millions)\n",
    "\n",
    "`EU_Sales` - Sales in Europe (in millions)\n",
    "\n",
    "`JP_Sales` - Sales in Japan (in millions)\n",
    "\n",
    "`Other_Sales` - Sales in the rest of the world (in millions)\n",
    "\n",
    "`Global_Sales` - Total worldwide sales."
   ]
  },
  {
   "cell_type": "code",
   "execution_count": 6,
   "id": "a289d38b-b308-4669-b61d-0f470131bb8f",
   "metadata": {},
   "outputs": [
    {
     "data": {
      "text/plain": [
       "(16598, 11)"
      ]
     },
     "execution_count": 6,
     "metadata": {},
     "output_type": "execute_result"
    }
   ],
   "source": [
    "# Shape of the dataframe\n",
    "\n",
    "df.shape"
   ]
  },
  {
   "cell_type": "code",
   "execution_count": 7,
   "id": "c06cdd0a-680e-4a99-8111-68b833d7991b",
   "metadata": {},
   "outputs": [
    {
     "data": {
      "text/plain": [
       "Rank              int64\n",
       "Name             object\n",
       "Platform         object\n",
       "Year            float64\n",
       "Genre            object\n",
       "Publisher        object\n",
       "NA_Sales        float64\n",
       "EU_Sales        float64\n",
       "JP_Sales        float64\n",
       "Other_Sales     float64\n",
       "Global_Sales    float64\n",
       "dtype: object"
      ]
     },
     "execution_count": 7,
     "metadata": {},
     "output_type": "execute_result"
    }
   ],
   "source": [
    "#data type \n",
    "\n",
    "df.dtypes"
   ]
  },
  {
   "cell_type": "code",
   "execution_count": 8,
   "id": "4c1bf16a-ace9-4c23-a5a0-5ef79dcd84fd",
   "metadata": {},
   "outputs": [
    {
     "data": {
      "text/plain": [
       "Index(['Rank', 'Name', 'Platform', 'Year', 'Genre', 'Publisher', 'NA_Sales',\n",
       "       'EU_Sales', 'JP_Sales', 'Other_Sales', 'Global_Sales'],\n",
       "      dtype='object')"
      ]
     },
     "execution_count": 8,
     "metadata": {},
     "output_type": "execute_result"
    }
   ],
   "source": [
    "# Names of Columns \n",
    "\n",
    "df.columns"
   ]
  },
  {
   "cell_type": "code",
   "execution_count": 9,
   "id": "f9364065-985d-4c1a-898a-d88106bea81c",
   "metadata": {},
   "outputs": [
    {
     "data": {
      "text/html": [
       "<div>\n",
       "<style scoped>\n",
       "    .dataframe tbody tr th:only-of-type {\n",
       "        vertical-align: middle;\n",
       "    }\n",
       "\n",
       "    .dataframe tbody tr th {\n",
       "        vertical-align: top;\n",
       "    }\n",
       "\n",
       "    .dataframe thead th {\n",
       "        text-align: right;\n",
       "    }\n",
       "</style>\n",
       "<table border=\"1\" class=\"dataframe\">\n",
       "  <thead>\n",
       "    <tr style=\"text-align: right;\">\n",
       "      <th></th>\n",
       "      <th>Rank</th>\n",
       "      <th>Year</th>\n",
       "      <th>NA_Sales</th>\n",
       "      <th>EU_Sales</th>\n",
       "      <th>JP_Sales</th>\n",
       "      <th>Other_Sales</th>\n",
       "      <th>Global_Sales</th>\n",
       "    </tr>\n",
       "  </thead>\n",
       "  <tbody>\n",
       "    <tr>\n",
       "      <th>count</th>\n",
       "      <td>16598.000000</td>\n",
       "      <td>16327.000000</td>\n",
       "      <td>16598.000000</td>\n",
       "      <td>16598.000000</td>\n",
       "      <td>16598.000000</td>\n",
       "      <td>16598.000000</td>\n",
       "      <td>16598.000000</td>\n",
       "    </tr>\n",
       "    <tr>\n",
       "      <th>mean</th>\n",
       "      <td>8300.605254</td>\n",
       "      <td>2006.406443</td>\n",
       "      <td>0.264667</td>\n",
       "      <td>0.146652</td>\n",
       "      <td>0.077782</td>\n",
       "      <td>0.048063</td>\n",
       "      <td>0.537441</td>\n",
       "    </tr>\n",
       "    <tr>\n",
       "      <th>std</th>\n",
       "      <td>4791.853933</td>\n",
       "      <td>5.828981</td>\n",
       "      <td>0.816683</td>\n",
       "      <td>0.505351</td>\n",
       "      <td>0.309291</td>\n",
       "      <td>0.188588</td>\n",
       "      <td>1.555028</td>\n",
       "    </tr>\n",
       "    <tr>\n",
       "      <th>min</th>\n",
       "      <td>1.000000</td>\n",
       "      <td>1980.000000</td>\n",
       "      <td>0.000000</td>\n",
       "      <td>0.000000</td>\n",
       "      <td>0.000000</td>\n",
       "      <td>0.000000</td>\n",
       "      <td>0.010000</td>\n",
       "    </tr>\n",
       "    <tr>\n",
       "      <th>25%</th>\n",
       "      <td>4151.250000</td>\n",
       "      <td>2003.000000</td>\n",
       "      <td>0.000000</td>\n",
       "      <td>0.000000</td>\n",
       "      <td>0.000000</td>\n",
       "      <td>0.000000</td>\n",
       "      <td>0.060000</td>\n",
       "    </tr>\n",
       "    <tr>\n",
       "      <th>50%</th>\n",
       "      <td>8300.500000</td>\n",
       "      <td>2007.000000</td>\n",
       "      <td>0.080000</td>\n",
       "      <td>0.020000</td>\n",
       "      <td>0.000000</td>\n",
       "      <td>0.010000</td>\n",
       "      <td>0.170000</td>\n",
       "    </tr>\n",
       "    <tr>\n",
       "      <th>75%</th>\n",
       "      <td>12449.750000</td>\n",
       "      <td>2010.000000</td>\n",
       "      <td>0.240000</td>\n",
       "      <td>0.110000</td>\n",
       "      <td>0.040000</td>\n",
       "      <td>0.040000</td>\n",
       "      <td>0.470000</td>\n",
       "    </tr>\n",
       "    <tr>\n",
       "      <th>max</th>\n",
       "      <td>16600.000000</td>\n",
       "      <td>2020.000000</td>\n",
       "      <td>41.490000</td>\n",
       "      <td>29.020000</td>\n",
       "      <td>10.220000</td>\n",
       "      <td>10.570000</td>\n",
       "      <td>82.740000</td>\n",
       "    </tr>\n",
       "  </tbody>\n",
       "</table>\n",
       "</div>"
      ],
      "text/plain": [
       "               Rank          Year      NA_Sales      EU_Sales      JP_Sales  \\\n",
       "count  16598.000000  16327.000000  16598.000000  16598.000000  16598.000000   \n",
       "mean    8300.605254   2006.406443      0.264667      0.146652      0.077782   \n",
       "std     4791.853933      5.828981      0.816683      0.505351      0.309291   \n",
       "min        1.000000   1980.000000      0.000000      0.000000      0.000000   \n",
       "25%     4151.250000   2003.000000      0.000000      0.000000      0.000000   \n",
       "50%     8300.500000   2007.000000      0.080000      0.020000      0.000000   \n",
       "75%    12449.750000   2010.000000      0.240000      0.110000      0.040000   \n",
       "max    16600.000000   2020.000000     41.490000     29.020000     10.220000   \n",
       "\n",
       "        Other_Sales  Global_Sales  \n",
       "count  16598.000000  16598.000000  \n",
       "mean       0.048063      0.537441  \n",
       "std        0.188588      1.555028  \n",
       "min        0.000000      0.010000  \n",
       "25%        0.000000      0.060000  \n",
       "50%        0.010000      0.170000  \n",
       "75%        0.040000      0.470000  \n",
       "max       10.570000     82.740000  "
      ]
     },
     "execution_count": 9,
     "metadata": {},
     "output_type": "execute_result"
    }
   ],
   "source": [
    "# describe\n",
    "\n",
    "df.describe()"
   ]
  },
  {
   "cell_type": "markdown",
   "id": "98b6d405-a533-4a46-b3c0-4123b0a1d4d2",
   "metadata": {},
   "source": [
    "# Step 2: Data Preparation\n",
    "\n",
    "- Checking for empty cells\n",
    "- Dropping columns that are not needed\n",
    "- Uniqueness of every column\n",
    "- Duplicate\n",
    "- Groupby\n",
    "- Sorting values"
   ]
  },
  {
   "cell_type": "code",
   "execution_count": 11,
   "id": "9ef2e980-bd48-4bd5-bea3-cffcf93f55bb",
   "metadata": {},
   "outputs": [
    {
     "data": {
      "text/plain": [
       "Rank              0\n",
       "Name              0\n",
       "Platform          0\n",
       "Year            271\n",
       "Genre             0\n",
       "Publisher        58\n",
       "NA_Sales          0\n",
       "EU_Sales          0\n",
       "JP_Sales          0\n",
       "Other_Sales       0\n",
       "Global_Sales      0\n",
       "dtype: int64"
      ]
     },
     "execution_count": 11,
     "metadata": {},
     "output_type": "execute_result"
    }
   ],
   "source": [
    "df.isnull().sum()\n",
    "\n",
    "# Although there are null cases, will keep them because of their ranking system.\n",
    "# Later through the data we will remove the ranking aspect and tackle the rest of the data."
   ]
  },
  {
   "cell_type": "code",
   "execution_count": 12,
   "id": "caa22196-4b83-4c86-99e9-c3340d945b51",
   "metadata": {},
   "outputs": [
    {
     "data": {
      "text/plain": [
       "Index(['Year', 'Publisher'], dtype='object')"
      ]
     },
     "execution_count": 12,
     "metadata": {},
     "output_type": "execute_result"
    }
   ],
   "source": [
    "#Columns that has null in it \n",
    "\n",
    "df.columns[df.isnull().any()]"
   ]
  },
  {
   "cell_type": "code",
   "execution_count": 13,
   "id": "79ae3999-451d-4fb8-ae9c-c7d34b304317",
   "metadata": {},
   "outputs": [],
   "source": [
    "# Dropping of not needed columns for now.\n",
    "\n",
    "df_cleaned = df.drop(['Publisher'],axis = 1)"
   ]
  },
  {
   "cell_type": "code",
   "execution_count": 14,
   "id": "d16d1028-dc86-4f4f-b084-530c6b1ddb89",
   "metadata": {},
   "outputs": [
    {
     "data": {
      "text/plain": [
       "11493"
      ]
     },
     "execution_count": 14,
     "metadata": {},
     "output_type": "execute_result"
    }
   ],
   "source": [
    "# Number of unique names \n",
    "\n",
    "df_cleaned['Name'].nunique()"
   ]
  },
  {
   "cell_type": "code",
   "execution_count": 15,
   "id": "74569237-bd88-42f2-beb6-d4b9faa06797",
   "metadata": {},
   "outputs": [
    {
     "data": {
      "text/plain": [
       "31"
      ]
     },
     "execution_count": 15,
     "metadata": {},
     "output_type": "execute_result"
    }
   ],
   "source": [
    "#Number of unique Platforms\n",
    "\n",
    "df_cleaned['Platform'].nunique()"
   ]
  },
  {
   "cell_type": "code",
   "execution_count": 16,
   "id": "8a565242-884b-4372-a9f4-f5e666fd5d7e",
   "metadata": {},
   "outputs": [
    {
     "data": {
      "text/html": [
       "<div>\n",
       "<style scoped>\n",
       "    .dataframe tbody tr th:only-of-type {\n",
       "        vertical-align: middle;\n",
       "    }\n",
       "\n",
       "    .dataframe tbody tr th {\n",
       "        vertical-align: top;\n",
       "    }\n",
       "\n",
       "    .dataframe thead th {\n",
       "        text-align: right;\n",
       "    }\n",
       "</style>\n",
       "<table border=\"1\" class=\"dataframe\">\n",
       "  <thead>\n",
       "    <tr style=\"text-align: right;\">\n",
       "      <th></th>\n",
       "      <th>Rank</th>\n",
       "      <th>Name</th>\n",
       "      <th>Platform</th>\n",
       "      <th>Year</th>\n",
       "      <th>Genre</th>\n",
       "      <th>Publisher</th>\n",
       "      <th>NA_Sales</th>\n",
       "      <th>EU_Sales</th>\n",
       "      <th>JP_Sales</th>\n",
       "      <th>Other_Sales</th>\n",
       "      <th>Global_Sales</th>\n",
       "    </tr>\n",
       "  </thead>\n",
       "  <tbody>\n",
       "    <tr>\n",
       "      <th>23</th>\n",
       "      <td>24</td>\n",
       "      <td>Grand Theft Auto V</td>\n",
       "      <td>X360</td>\n",
       "      <td>2013.0</td>\n",
       "      <td>Action</td>\n",
       "      <td>Take-Two Interactive</td>\n",
       "      <td>9.63</td>\n",
       "      <td>5.31</td>\n",
       "      <td>0.06</td>\n",
       "      <td>1.38</td>\n",
       "      <td>16.38</td>\n",
       "    </tr>\n",
       "    <tr>\n",
       "      <th>35</th>\n",
       "      <td>36</td>\n",
       "      <td>Call of Duty: Black Ops II</td>\n",
       "      <td>X360</td>\n",
       "      <td>2012.0</td>\n",
       "      <td>Shooter</td>\n",
       "      <td>Activision</td>\n",
       "      <td>8.25</td>\n",
       "      <td>4.30</td>\n",
       "      <td>0.07</td>\n",
       "      <td>1.12</td>\n",
       "      <td>13.73</td>\n",
       "    </tr>\n",
       "    <tr>\n",
       "      <th>37</th>\n",
       "      <td>38</td>\n",
       "      <td>Call of Duty: Modern Warfare 3</td>\n",
       "      <td>PS3</td>\n",
       "      <td>2011.0</td>\n",
       "      <td>Shooter</td>\n",
       "      <td>Activision</td>\n",
       "      <td>5.54</td>\n",
       "      <td>5.82</td>\n",
       "      <td>0.49</td>\n",
       "      <td>1.62</td>\n",
       "      <td>13.46</td>\n",
       "    </tr>\n",
       "    <tr>\n",
       "      <th>40</th>\n",
       "      <td>41</td>\n",
       "      <td>Call of Duty: Black Ops</td>\n",
       "      <td>PS3</td>\n",
       "      <td>2010.0</td>\n",
       "      <td>Shooter</td>\n",
       "      <td>Activision</td>\n",
       "      <td>5.98</td>\n",
       "      <td>4.44</td>\n",
       "      <td>0.48</td>\n",
       "      <td>1.83</td>\n",
       "      <td>12.73</td>\n",
       "    </tr>\n",
       "    <tr>\n",
       "      <th>55</th>\n",
       "      <td>56</td>\n",
       "      <td>Call of Duty: Modern Warfare 2</td>\n",
       "      <td>PS3</td>\n",
       "      <td>2009.0</td>\n",
       "      <td>Shooter</td>\n",
       "      <td>Activision</td>\n",
       "      <td>4.99</td>\n",
       "      <td>3.69</td>\n",
       "      <td>0.38</td>\n",
       "      <td>1.63</td>\n",
       "      <td>10.69</td>\n",
       "    </tr>\n",
       "    <tr>\n",
       "      <th>...</th>\n",
       "      <td>...</td>\n",
       "      <td>...</td>\n",
       "      <td>...</td>\n",
       "      <td>...</td>\n",
       "      <td>...</td>\n",
       "      <td>...</td>\n",
       "      <td>...</td>\n",
       "      <td>...</td>\n",
       "      <td>...</td>\n",
       "      <td>...</td>\n",
       "      <td>...</td>\n",
       "    </tr>\n",
       "    <tr>\n",
       "      <th>16576</th>\n",
       "      <td>16579</td>\n",
       "      <td>Rugby Challenge 3</td>\n",
       "      <td>XOne</td>\n",
       "      <td>2016.0</td>\n",
       "      <td>Sports</td>\n",
       "      <td>Alternative Software</td>\n",
       "      <td>0.00</td>\n",
       "      <td>0.01</td>\n",
       "      <td>0.00</td>\n",
       "      <td>0.00</td>\n",
       "      <td>0.01</td>\n",
       "    </tr>\n",
       "    <tr>\n",
       "      <th>16577</th>\n",
       "      <td>16580</td>\n",
       "      <td>Damnation</td>\n",
       "      <td>PC</td>\n",
       "      <td>2009.0</td>\n",
       "      <td>Shooter</td>\n",
       "      <td>Codemasters</td>\n",
       "      <td>0.00</td>\n",
       "      <td>0.01</td>\n",
       "      <td>0.00</td>\n",
       "      <td>0.00</td>\n",
       "      <td>0.01</td>\n",
       "    </tr>\n",
       "    <tr>\n",
       "      <th>16586</th>\n",
       "      <td>16589</td>\n",
       "      <td>Secret Files 2: Puritas Cordis</td>\n",
       "      <td>DS</td>\n",
       "      <td>2009.0</td>\n",
       "      <td>Adventure</td>\n",
       "      <td>Deep Silver</td>\n",
       "      <td>0.00</td>\n",
       "      <td>0.01</td>\n",
       "      <td>0.00</td>\n",
       "      <td>0.00</td>\n",
       "      <td>0.01</td>\n",
       "    </tr>\n",
       "    <tr>\n",
       "      <th>16595</th>\n",
       "      <td>16598</td>\n",
       "      <td>SCORE International Baja 1000: The Official Game</td>\n",
       "      <td>PS2</td>\n",
       "      <td>2008.0</td>\n",
       "      <td>Racing</td>\n",
       "      <td>Activision</td>\n",
       "      <td>0.00</td>\n",
       "      <td>0.00</td>\n",
       "      <td>0.00</td>\n",
       "      <td>0.00</td>\n",
       "      <td>0.01</td>\n",
       "    </tr>\n",
       "    <tr>\n",
       "      <th>16597</th>\n",
       "      <td>16600</td>\n",
       "      <td>Spirits &amp; Spells</td>\n",
       "      <td>GBA</td>\n",
       "      <td>2003.0</td>\n",
       "      <td>Platform</td>\n",
       "      <td>Wanadoo</td>\n",
       "      <td>0.01</td>\n",
       "      <td>0.00</td>\n",
       "      <td>0.00</td>\n",
       "      <td>0.00</td>\n",
       "      <td>0.01</td>\n",
       "    </tr>\n",
       "  </tbody>\n",
       "</table>\n",
       "<p>4235 rows × 11 columns</p>\n",
       "</div>"
      ],
      "text/plain": [
       "        Rank                                              Name Platform  \\\n",
       "23        24                                Grand Theft Auto V     X360   \n",
       "35        36                        Call of Duty: Black Ops II     X360   \n",
       "37        38                    Call of Duty: Modern Warfare 3      PS3   \n",
       "40        41                           Call of Duty: Black Ops      PS3   \n",
       "55        56                    Call of Duty: Modern Warfare 2      PS3   \n",
       "...      ...                                               ...      ...   \n",
       "16576  16579                                 Rugby Challenge 3     XOne   \n",
       "16577  16580                                         Damnation       PC   \n",
       "16586  16589                    Secret Files 2: Puritas Cordis       DS   \n",
       "16595  16598  SCORE International Baja 1000: The Official Game      PS2   \n",
       "16597  16600                                  Spirits & Spells      GBA   \n",
       "\n",
       "         Year      Genre             Publisher  NA_Sales  EU_Sales  JP_Sales  \\\n",
       "23     2013.0     Action  Take-Two Interactive      9.63      5.31      0.06   \n",
       "35     2012.0    Shooter            Activision      8.25      4.30      0.07   \n",
       "37     2011.0    Shooter            Activision      5.54      5.82      0.49   \n",
       "40     2010.0    Shooter            Activision      5.98      4.44      0.48   \n",
       "55     2009.0    Shooter            Activision      4.99      3.69      0.38   \n",
       "...       ...        ...                   ...       ...       ...       ...   \n",
       "16576  2016.0     Sports  Alternative Software      0.00      0.01      0.00   \n",
       "16577  2009.0    Shooter           Codemasters      0.00      0.01      0.00   \n",
       "16586  2009.0  Adventure           Deep Silver      0.00      0.01      0.00   \n",
       "16595  2008.0     Racing            Activision      0.00      0.00      0.00   \n",
       "16597  2003.0   Platform               Wanadoo      0.01      0.00      0.00   \n",
       "\n",
       "       Other_Sales  Global_Sales  \n",
       "23            1.38         16.38  \n",
       "35            1.12         13.73  \n",
       "37            1.62         13.46  \n",
       "40            1.83         12.73  \n",
       "55            1.63         10.69  \n",
       "...            ...           ...  \n",
       "16576         0.00          0.01  \n",
       "16577         0.00          0.01  \n",
       "16586         0.00          0.01  \n",
       "16595         0.00          0.01  \n",
       "16597         0.00          0.01  \n",
       "\n",
       "[4235 rows x 11 columns]"
      ]
     },
     "execution_count": 16,
     "metadata": {},
     "output_type": "execute_result"
    }
   ],
   "source": [
    "#Check for duplicate using subset\n",
    "\n",
    "df.loc[df_cleaned.duplicated(subset = ['Name','Year'])]"
   ]
  },
  {
   "cell_type": "code",
   "execution_count": 17,
   "id": "499ba285-b617-4edd-8bef-5eb1c31cb6b1",
   "metadata": {},
   "outputs": [
    {
     "data": {
      "text/html": [
       "<div>\n",
       "<style scoped>\n",
       "    .dataframe tbody tr th:only-of-type {\n",
       "        vertical-align: middle;\n",
       "    }\n",
       "\n",
       "    .dataframe tbody tr th {\n",
       "        vertical-align: top;\n",
       "    }\n",
       "\n",
       "    .dataframe thead th {\n",
       "        text-align: right;\n",
       "    }\n",
       "</style>\n",
       "<table border=\"1\" class=\"dataframe\">\n",
       "  <thead>\n",
       "    <tr style=\"text-align: right;\">\n",
       "      <th></th>\n",
       "      <th>Name</th>\n",
       "      <th>Genre</th>\n",
       "      <th>Year</th>\n",
       "      <th>NA_Sales</th>\n",
       "      <th>EU_Sales</th>\n",
       "      <th>JP_Sales</th>\n",
       "      <th>Other_Sales</th>\n",
       "      <th>Global_Sales</th>\n",
       "    </tr>\n",
       "  </thead>\n",
       "  <tbody>\n",
       "    <tr>\n",
       "      <th>11635</th>\n",
       "      <td>Wii Sports</td>\n",
       "      <td>Sports</td>\n",
       "      <td>2006.0</td>\n",
       "      <td>41.49</td>\n",
       "      <td>29.02</td>\n",
       "      <td>3.77</td>\n",
       "      <td>8.46</td>\n",
       "      <td>82.74</td>\n",
       "    </tr>\n",
       "    <tr>\n",
       "      <th>9849</th>\n",
       "      <td>Super Mario Bros.</td>\n",
       "      <td>Platform</td>\n",
       "      <td>1985.0</td>\n",
       "      <td>29.08</td>\n",
       "      <td>3.58</td>\n",
       "      <td>6.81</td>\n",
       "      <td>0.77</td>\n",
       "      <td>40.24</td>\n",
       "    </tr>\n",
       "    <tr>\n",
       "      <th>3935</th>\n",
       "      <td>Grand Theft Auto V</td>\n",
       "      <td>Action</td>\n",
       "      <td>2013.0</td>\n",
       "      <td>16.64</td>\n",
       "      <td>14.58</td>\n",
       "      <td>1.03</td>\n",
       "      <td>5.52</td>\n",
       "      <td>37.78</td>\n",
       "    </tr>\n",
       "    <tr>\n",
       "      <th>5856</th>\n",
       "      <td>Mario Kart Wii</td>\n",
       "      <td>Racing</td>\n",
       "      <td>2008.0</td>\n",
       "      <td>15.85</td>\n",
       "      <td>12.88</td>\n",
       "      <td>3.79</td>\n",
       "      <td>3.31</td>\n",
       "      <td>35.82</td>\n",
       "    </tr>\n",
       "    <tr>\n",
       "      <th>11637</th>\n",
       "      <td>Wii Sports Resort</td>\n",
       "      <td>Sports</td>\n",
       "      <td>2009.0</td>\n",
       "      <td>15.75</td>\n",
       "      <td>11.01</td>\n",
       "      <td>3.28</td>\n",
       "      <td>2.96</td>\n",
       "      <td>33.00</td>\n",
       "    </tr>\n",
       "    <tr>\n",
       "      <th>...</th>\n",
       "      <td>...</td>\n",
       "      <td>...</td>\n",
       "      <td>...</td>\n",
       "      <td>...</td>\n",
       "      <td>...</td>\n",
       "      <td>...</td>\n",
       "      <td>...</td>\n",
       "      <td>...</td>\n",
       "    </tr>\n",
       "    <tr>\n",
       "      <th>5029</th>\n",
       "      <td>Kana: Imouto</td>\n",
       "      <td>Adventure</td>\n",
       "      <td>2010.0</td>\n",
       "      <td>0.00</td>\n",
       "      <td>0.00</td>\n",
       "      <td>0.01</td>\n",
       "      <td>0.00</td>\n",
       "      <td>0.01</td>\n",
       "    </tr>\n",
       "    <tr>\n",
       "      <th>6932</th>\n",
       "      <td>Naraku no Shiro</td>\n",
       "      <td>Adventure</td>\n",
       "      <td>2008.0</td>\n",
       "      <td>0.00</td>\n",
       "      <td>0.00</td>\n",
       "      <td>0.01</td>\n",
       "      <td>0.00</td>\n",
       "      <td>0.01</td>\n",
       "    </tr>\n",
       "    <tr>\n",
       "      <th>11331</th>\n",
       "      <td>Vanark</td>\n",
       "      <td>Shooter</td>\n",
       "      <td>1999.0</td>\n",
       "      <td>0.01</td>\n",
       "      <td>0.01</td>\n",
       "      <td>0.00</td>\n",
       "      <td>0.00</td>\n",
       "      <td>0.01</td>\n",
       "    </tr>\n",
       "    <tr>\n",
       "      <th>2529</th>\n",
       "      <td>Doraemon Wii: Himitsu Douguou Ketteisen!</td>\n",
       "      <td>Misc</td>\n",
       "      <td>2007.0</td>\n",
       "      <td>0.00</td>\n",
       "      <td>0.00</td>\n",
       "      <td>0.01</td>\n",
       "      <td>0.00</td>\n",
       "      <td>0.01</td>\n",
       "    </tr>\n",
       "    <tr>\n",
       "      <th>4053</th>\n",
       "      <td>GunParade Orchestra: Ao no Shou</td>\n",
       "      <td>Adventure</td>\n",
       "      <td>2006.0</td>\n",
       "      <td>0.00</td>\n",
       "      <td>0.00</td>\n",
       "      <td>0.01</td>\n",
       "      <td>0.00</td>\n",
       "      <td>0.01</td>\n",
       "    </tr>\n",
       "  </tbody>\n",
       "</table>\n",
       "<p>12131 rows × 8 columns</p>\n",
       "</div>"
      ],
      "text/plain": [
       "                                           Name      Genre    Year  NA_Sales  \\\n",
       "11635                                Wii Sports     Sports  2006.0     41.49   \n",
       "9849                          Super Mario Bros.   Platform  1985.0     29.08   \n",
       "3935                         Grand Theft Auto V     Action  2013.0     16.64   \n",
       "5856                             Mario Kart Wii     Racing  2008.0     15.85   \n",
       "11637                         Wii Sports Resort     Sports  2009.0     15.75   \n",
       "...                                         ...        ...     ...       ...   \n",
       "5029                               Kana: Imouto  Adventure  2010.0      0.00   \n",
       "6932                            Naraku no Shiro  Adventure  2008.0      0.00   \n",
       "11331                                    Vanark    Shooter  1999.0      0.01   \n",
       "2529   Doraemon Wii: Himitsu Douguou Ketteisen!       Misc  2007.0      0.00   \n",
       "4053            GunParade Orchestra: Ao no Shou  Adventure  2006.0      0.00   \n",
       "\n",
       "       EU_Sales  JP_Sales  Other_Sales  Global_Sales  \n",
       "11635     29.02      3.77         8.46         82.74  \n",
       "9849       3.58      6.81         0.77         40.24  \n",
       "3935      14.58      1.03         5.52         37.78  \n",
       "5856      12.88      3.79         3.31         35.82  \n",
       "11637     11.01      3.28         2.96         33.00  \n",
       "...         ...       ...          ...           ...  \n",
       "5029       0.00      0.01         0.00          0.01  \n",
       "6932       0.00      0.01         0.00          0.01  \n",
       "11331      0.01      0.00         0.00          0.01  \n",
       "2529       0.00      0.01         0.00          0.01  \n",
       "4053       0.00      0.01         0.00          0.01  \n",
       "\n",
       "[12131 rows x 8 columns]"
      ]
     },
     "execution_count": 17,
     "metadata": {},
     "output_type": "execute_result"
    }
   ],
   "source": [
    "# Group by Name, Year and Genre.\n",
    "# Then sum the respective sales\n",
    "# The Group is due to the fact that they were introduced on multiple platforms.\n",
    "\n",
    "df_grouped = df.groupby(['Name','Genre','Year'])[['NA_Sales', 'EU_Sales', 'JP_Sales', 'Other_Sales', 'Global_Sales']].sum().reset_index()\n",
    "\n",
    "#Sorting by Global_Sales\n",
    "df_grouped_sorted = df_grouped.sort_values(by='Global_Sales', ascending=False)\n",
    "df_grouped_sorted"
   ]
  },
  {
   "cell_type": "markdown",
   "id": "b8109db1-8d7f-45fd-965e-8537e4ef7dce",
   "metadata": {},
   "source": [
    "# Important Questions to ask\n",
    "\n",
    "1. Which game has the `highest global sales` across all years?\n",
    "2. What is the `total sales in North America (NA_Sales)` for all games released in the year 2010?\n",
    "3. How do the ``sales of games in Japan (JP_Sales)`` compare to those in `Europe (EU_Sales)` across different genres?\n",
    "4. What are the `top 5 games` released on the `'PlayStation 4' platform`, ranked by their `global sales`?\n",
    "5. Which `publisher has the highest total sales (Global_Sales)` across all games?\n",
    "6. In which `year` did the `most number of games` with `global sales above 10 million units` release?\n",
    "7. What is the `average sales of games in Europe (EU_Sales)` across all years?\n",
    "8. Which `game genre` has the `highest total sales` in `North America (NA_Sales)`?\n",
    "9. How does the `distribution of sales` across `different regions (NA_Sales, EU_Sales, JP_Sales, Other_Sales)` differ for the top 10 games by global sales?\n",
    "10. What is the `average rank of games released by each publisher`, and which `publisher` has the `highest average rank`?\n",
    "\n"
   ]
  },
  {
   "cell_type": "code",
   "execution_count": 19,
   "id": "f4c9501f-cba5-4d08-bb05-a2dc2528f8b0",
   "metadata": {},
   "outputs": [
    {
     "name": "stdout",
     "output_type": "stream",
     "text": [
      "Wii Sports has the highest Global Sales with 82.74 million dollars\n"
     ]
    }
   ],
   "source": [
    "# 1.Game with the highest Global_sales\n",
    "\n",
    "top_game = df_grouped_sorted.loc[df_grouped_sorted['Global_Sales'].idxmax()]\n",
    "print(f\"{top_game['Name']} has the highest Global Sales with {top_game['Global_Sales']} million dollars\")"
   ]
  },
  {
   "cell_type": "code",
   "execution_count": 20,
   "id": "92e24da3-fbdc-44be-8a9f-abbc8f6fba19",
   "metadata": {},
   "outputs": [
    {
     "name": "stdout",
     "output_type": "stream",
     "text": [
      "The total Sales of NA_Sales for all games in 2010 is 304.24 million dollars\n"
     ]
    }
   ],
   "source": [
    "#2. Total sales in North America (NA_Sales) for all games released in the year 2010\n",
    "\n",
    "#Filtering the data with Year = 2010\n",
    "total_sales_2010 = df[df['Year'] == 2010]\n",
    "\n",
    "#Filter only NA_Sales\n",
    "na_sales_2010 = total_sales_2010['NA_Sales']\n",
    "\n",
    "#Total Sales for NA in 2010\n",
    "total_na_sales_2010 = na_sales_2010.sum()\n",
    "rounded_total = round(total_na_sales_2010, 2)\n",
    "\n",
    "print(f\"The total Sales of NA_Sales for all games in 2010 is {rounded_total} million dollars\")"
   ]
  },
  {
   "cell_type": "code",
   "execution_count": 21,
   "id": "d501ef28-63cd-44fb-bc99-55d6616da949",
   "metadata": {},
   "outputs": [
    {
     "name": "stdout",
     "output_type": "stream",
     "text": [
      "Correlation: 0.43558445280918145\n"
     ]
    }
   ],
   "source": [
    "# 3. How do the sales of games in Japan (JP_Sales) compare to those in Europe (EU_Sales) across different genres?\n",
    "\n",
    "#Knowing the correlation between the 2 sales\n",
    "correlation = df['JP_Sales'].corr(df['EU_Sales'])\n",
    "print(f\"Correlation: {correlation}\")"
   ]
  },
  {
   "cell_type": "code",
   "execution_count": 22,
   "id": "5a019802-d7fd-41cf-b1bf-3aecc29f1d83",
   "metadata": {},
   "outputs": [
    {
     "data": {
      "text/html": [
       "<div>\n",
       "<style scoped>\n",
       "    .dataframe tbody tr th:only-of-type {\n",
       "        vertical-align: middle;\n",
       "    }\n",
       "\n",
       "    .dataframe tbody tr th {\n",
       "        vertical-align: top;\n",
       "    }\n",
       "\n",
       "    .dataframe thead th {\n",
       "        text-align: right;\n",
       "    }\n",
       "</style>\n",
       "<table border=\"1\" class=\"dataframe\">\n",
       "  <thead>\n",
       "    <tr style=\"text-align: right;\">\n",
       "      <th></th>\n",
       "      <th>Genre</th>\n",
       "      <th>EU_Sales</th>\n",
       "      <th>JP_Sales</th>\n",
       "    </tr>\n",
       "  </thead>\n",
       "  <tbody>\n",
       "    <tr>\n",
       "      <th>0</th>\n",
       "      <td>Action</td>\n",
       "      <td>525.00</td>\n",
       "      <td>159.95</td>\n",
       "    </tr>\n",
       "    <tr>\n",
       "      <th>1</th>\n",
       "      <td>Adventure</td>\n",
       "      <td>64.13</td>\n",
       "      <td>52.07</td>\n",
       "    </tr>\n",
       "    <tr>\n",
       "      <th>2</th>\n",
       "      <td>Fighting</td>\n",
       "      <td>101.32</td>\n",
       "      <td>87.35</td>\n",
       "    </tr>\n",
       "    <tr>\n",
       "      <th>3</th>\n",
       "      <td>Misc</td>\n",
       "      <td>215.98</td>\n",
       "      <td>107.76</td>\n",
       "    </tr>\n",
       "    <tr>\n",
       "      <th>4</th>\n",
       "      <td>Platform</td>\n",
       "      <td>201.63</td>\n",
       "      <td>130.77</td>\n",
       "    </tr>\n",
       "    <tr>\n",
       "      <th>5</th>\n",
       "      <td>Puzzle</td>\n",
       "      <td>50.78</td>\n",
       "      <td>57.31</td>\n",
       "    </tr>\n",
       "    <tr>\n",
       "      <th>6</th>\n",
       "      <td>Racing</td>\n",
       "      <td>238.39</td>\n",
       "      <td>56.69</td>\n",
       "    </tr>\n",
       "    <tr>\n",
       "      <th>7</th>\n",
       "      <td>Role-Playing</td>\n",
       "      <td>188.06</td>\n",
       "      <td>352.31</td>\n",
       "    </tr>\n",
       "    <tr>\n",
       "      <th>8</th>\n",
       "      <td>Shooter</td>\n",
       "      <td>313.27</td>\n",
       "      <td>38.28</td>\n",
       "    </tr>\n",
       "    <tr>\n",
       "      <th>9</th>\n",
       "      <td>Simulation</td>\n",
       "      <td>113.38</td>\n",
       "      <td>63.70</td>\n",
       "    </tr>\n",
       "    <tr>\n",
       "      <th>10</th>\n",
       "      <td>Sports</td>\n",
       "      <td>376.85</td>\n",
       "      <td>135.37</td>\n",
       "    </tr>\n",
       "    <tr>\n",
       "      <th>11</th>\n",
       "      <td>Strategy</td>\n",
       "      <td>45.34</td>\n",
       "      <td>49.46</td>\n",
       "    </tr>\n",
       "  </tbody>\n",
       "</table>\n",
       "</div>"
      ],
      "text/plain": [
       "           Genre  EU_Sales  JP_Sales\n",
       "0         Action    525.00    159.95\n",
       "1      Adventure     64.13     52.07\n",
       "2       Fighting    101.32     87.35\n",
       "3           Misc    215.98    107.76\n",
       "4       Platform    201.63    130.77\n",
       "5         Puzzle     50.78     57.31\n",
       "6         Racing    238.39     56.69\n",
       "7   Role-Playing    188.06    352.31\n",
       "8        Shooter    313.27     38.28\n",
       "9     Simulation    113.38     63.70\n",
       "10        Sports    376.85    135.37\n",
       "11      Strategy     45.34     49.46"
      ]
     },
     "execution_count": 22,
     "metadata": {},
     "output_type": "execute_result"
    }
   ],
   "source": [
    "df_genre = df.groupby('Genre')[['EU_Sales', 'JP_Sales']].sum().reset_index()\n",
    "df_genre"
   ]
  },
  {
   "cell_type": "code",
   "execution_count": 23,
   "id": "46339f05-603a-4830-9b68-c76e025379f6",
   "metadata": {},
   "outputs": [
    {
     "data": {
      "image/png": "[encoded data removed]",
      "text/plain": [
       "<Figure size 800x600 with 1 Axes>"
      ]
     },
     "metadata": {},
     "output_type": "display_data"
    }
   ],
   "source": [
    "#Setting Genre column as the Primary Column for arrangement\n",
    "genre = df_genre.set_index('Genre')\n",
    "\n",
    "#Create a bar graph\n",
    "genre.plot(kind='bar',figsize=(8,6), stacked=True)\n",
    "\n",
    "plt.title(\"Comparison of Game Sales in Japan and Europe by Genre\")\n",
    "plt.xlabel('Genre')\n",
    "plt.ylabel('Sales(in Millions)')\n",
    "\n",
    "plt.show()"
   ]
  },
  {
   "cell_type": "code",
   "execution_count": 24,
   "id": "cefff87c-9351-4b10-83a6-24c06ec54cd0",
   "metadata": {},
   "outputs": [
    {
     "name": "stdout",
     "output_type": "stream",
     "text": [
      "The top 5 games on PS4 are \n",
      "0         Call of Duty: Black Ops 3\n",
      "1                Grand Theft Auto V\n",
      "2                           FIFA 16\n",
      "3      Star Wars Battlefront (2015)\n",
      "4    Call of Duty: Advanced Warfare\n",
      "Name: Name, dtype: object\n"
     ]
    }
   ],
   "source": [
    "# 4.What are the top 5 games released on the 'PlayStation 4' platform, ranked by their global sales?\n",
    "\n",
    "#check if ps4 is par of the platform\n",
    "df_platform = df[df['Platform'] == 'PS4']\n",
    "\n",
    "#duplicated subset\n",
    "top_df_platform =df_platform.sort_values(by='Global_Sales', ascending=False).head(5).reset_index()\n",
    "\n",
    "top_top = top_df_platform[['Name', 'Global_Sales']]\n",
    "print(f\"The top 5 games on PS4 are \\n{top_top['Name']}\")"
   ]
  },
  {
   "cell_type": "code",
   "execution_count": 25,
   "id": "f2078f23-bc31-4b41-b200-0dbd77a371b9",
   "metadata": {
    "scrolled": true
   },
   "outputs": [
    {
     "data": {
      "text/plain": [
       "Text(0.5, 1.0, 'Top 5 Games released of PlayStation 4')"
      ]
     },
     "execution_count": 25,
     "metadata": {},
     "output_type": "execute_result"
    },
    {
     "data": {
      "image/png": "[encoded data removed]",
      "text/plain": [
       "<Figure size 800x400 with 1 Axes>"
      ]
     },
     "metadata": {},
     "output_type": "display_data"
    }
   ],
   "source": [
    "plt.figure(figsize=(8,4))\n",
    "\n",
    "x=top_df_platform['Name']\n",
    "#Creating a bar chart\n",
    "plt.bar (x ,top_df_platform['Global_Sales'], alpha = 0.7, width=.5)\n",
    "\n",
    "#Rotating the names 45 degree\n",
    "plt.xticks(rotation=45)\n",
    "plt.xlabel('Games')\n",
    "plt.ylabel('Globa Sales')\n",
    "plt.title('Top 5 Games released of PlayStation 4')"
   ]
  },
  {
   "cell_type": "code",
   "execution_count": 26,
   "id": "39511585-77a4-4f3c-82d0-1c4ef250fca6",
   "metadata": {},
   "outputs": [
    {
     "name": "stdout",
     "output_type": "stream",
     "text": [
      "The Publisher with the highest total sales is Nintendo\n"
     ]
    }
   ],
   "source": [
    "# 5. Which publisher has the highest total sales (Global_Sales) across all games?\n",
    "\n",
    "#Group the dataset according to the Publisher \n",
    "df_publisher = df.groupby('Publisher')['Global_Sales'].sum().reset_index()\n",
    "\n",
    "# locate the highest total sales by a publisher \n",
    "df_publisher = df_publisher.loc[df_publisher['Global_Sales'].idxmax()]\n",
    "\n",
    "#Print the result\n",
    "print(f\"The Publisher with the highest total sales is {df_publisher['Publisher']}\")"
   ]
  },
  {
   "cell_type": "code",
   "execution_count": 27,
   "id": "0b89f93a-a8e1-48d2-ba5e-a61b2aa34d69",
   "metadata": {},
   "outputs": [
    {
     "name": "stdout",
     "output_type": "stream",
     "text": [
      "Year\n",
      "2009.0    6\n",
      "Name: count, dtype: int64\n"
     ]
    }
   ],
   "source": [
    "# 6. In which year did the most number of games with global sales above 10 million units release?\n",
    "\n",
    "#Filter the year when games is sold more than 10 million \n",
    "filtered_df_year = df[df['Global_Sales'] > 10]\n",
    "\n",
    "#Count the Number of games released per year \n",
    "yearly_counts = filtered_df_year['Year'].value_counts()\n",
    "\n",
    "#Print year with the most count \n",
    "print(yearly_counts.head(1))"
   ]
  },
  {
   "cell_type": "code",
   "execution_count": 28,
   "id": "5268eb06-54b0-47e6-a376-79ee6962f1c6",
   "metadata": {},
   "outputs": [
    {
     "name": "stdout",
     "output_type": "stream",
     "text": [
      "Average EU Sales across all years: 0.15 million units\n"
     ]
    }
   ],
   "source": [
    "# 7.What is the average sales of games in Europe (EU_Sales) across all years?\n",
    "\n",
    "# Calculate the average EU_Sales\n",
    "average_eu_sales = df['EU_Sales'].mean()\n",
    "\n",
    "# Display the result\n",
    "print(f\"Average EU Sales across all years: {average_eu_sales:.2f} million units\")"
   ]
  },
  {
   "cell_type": "code",
   "execution_count": 29,
   "id": "c55d0b02-5f04-431c-851f-da4d1941baac",
   "metadata": {},
   "outputs": [
    {
     "name": "stdout",
     "output_type": "stream",
     "text": [
      "The game genre with the highest total sales in North America (NA_Sales) is Action.\n"
     ]
    }
   ],
   "source": [
    "# 8. Which game genre has the highest total sales in North America (NA_Sales)?\n",
    "\n",
    "#Group the data according to genre \n",
    "df_genre = df.groupby('Genre')[['NA_Sales']].sum().reset_index()\n",
    "\n",
    "#Locate the maximum genre\n",
    "df_genre = df_genre.loc[df_genre['NA_Sales'].idxmax()]\n",
    "\n",
    "#Print the highest total sales \n",
    "print(f\"The game genre with the highest total sales in North America (NA_Sales) is {df_genre['Genre']}.\")"
   ]
  },
  {
   "cell_type": "code",
   "execution_count": 30,
   "id": "f6f39464-27eb-48c2-ad25-0a9a99018d80",
   "metadata": {},
   "outputs": [
    {
     "data": {
      "text/plain": [
       "<Figure size 1200x600 with 0 Axes>"
      ]
     },
     "metadata": {},
     "output_type": "display_data"
    },
    {
     "data": {
      "image/png": "[encoded data removed]",
      "text/plain": [
       "<Figure size 1200x600 with 1 Axes>"
      ]
     },
     "metadata": {},
     "output_type": "display_data"
    }
   ],
   "source": [
    "# 9. How does the distribution of sales across different regions (NA_Sales, EU_Sales, JP_Sales, Other_Sales) differ for the top 10 games by global sales?\n",
    "\n",
    "region = df_grouped_sorted.head(10)\n",
    "sales = region[['Name','NA_Sales', 'EU_Sales', 'JP_Sales', 'Other_Sales']]\n",
    "regions = sales.set_index('Name')\n",
    "\n",
    "#Create figsize\n",
    "plt.figure(figsize=(12,6))\n",
    "\n",
    "#Stacked Bar Chart\n",
    "regions.plot(kind='bar', figsize=(12,6))\n",
    "\n",
    "plt.title('Top 10 Games and the Distribution of sales')\n",
    "plt.xlabel('Names')\n",
    "plt.xticks(rotation=45)\n",
    "plt.ylabel('Sales')\n",
    "\n",
    "plt.show()"
   ]
  },
  {
   "cell_type": "code",
   "execution_count": 31,
   "id": "806524a3-30ea-4fe7-8822-16c963e8f747",
   "metadata": {},
   "outputs": [
    {
     "data": {
      "text/html": [
       "<div>\n",
       "<style scoped>\n",
       "    .dataframe tbody tr th:only-of-type {\n",
       "        vertical-align: middle;\n",
       "    }\n",
       "\n",
       "    .dataframe tbody tr th {\n",
       "        vertical-align: top;\n",
       "    }\n",
       "\n",
       "    .dataframe thead th {\n",
       "        text-align: right;\n",
       "    }\n",
       "</style>\n",
       "<table border=\"1\" class=\"dataframe\">\n",
       "  <thead>\n",
       "    <tr style=\"text-align: right;\">\n",
       "      <th></th>\n",
       "      <th>Name</th>\n",
       "      <th>Genre</th>\n",
       "      <th>Year</th>\n",
       "      <th>NA_Sales</th>\n",
       "      <th>EU_Sales</th>\n",
       "      <th>JP_Sales</th>\n",
       "      <th>Other_Sales</th>\n",
       "      <th>Global_Sales</th>\n",
       "    </tr>\n",
       "  </thead>\n",
       "  <tbody>\n",
       "    <tr>\n",
       "      <th>11635</th>\n",
       "      <td>Wii Sports</td>\n",
       "      <td>Sports</td>\n",
       "      <td>2006.0</td>\n",
       "      <td>41.49</td>\n",
       "      <td>29.02</td>\n",
       "      <td>3.77</td>\n",
       "      <td>8.46</td>\n",
       "      <td>82.74</td>\n",
       "    </tr>\n",
       "    <tr>\n",
       "      <th>9849</th>\n",
       "      <td>Super Mario Bros.</td>\n",
       "      <td>Platform</td>\n",
       "      <td>1985.0</td>\n",
       "      <td>29.08</td>\n",
       "      <td>3.58</td>\n",
       "      <td>6.81</td>\n",
       "      <td>0.77</td>\n",
       "      <td>40.24</td>\n",
       "    </tr>\n",
       "    <tr>\n",
       "      <th>3935</th>\n",
       "      <td>Grand Theft Auto V</td>\n",
       "      <td>Action</td>\n",
       "      <td>2013.0</td>\n",
       "      <td>16.64</td>\n",
       "      <td>14.58</td>\n",
       "      <td>1.03</td>\n",
       "      <td>5.52</td>\n",
       "      <td>37.78</td>\n",
       "    </tr>\n",
       "    <tr>\n",
       "      <th>5856</th>\n",
       "      <td>Mario Kart Wii</td>\n",
       "      <td>Racing</td>\n",
       "      <td>2008.0</td>\n",
       "      <td>15.85</td>\n",
       "      <td>12.88</td>\n",
       "      <td>3.79</td>\n",
       "      <td>3.31</td>\n",
       "      <td>35.82</td>\n",
       "    </tr>\n",
       "    <tr>\n",
       "      <th>11637</th>\n",
       "      <td>Wii Sports Resort</td>\n",
       "      <td>Sports</td>\n",
       "      <td>2009.0</td>\n",
       "      <td>15.75</td>\n",
       "      <td>11.01</td>\n",
       "      <td>3.28</td>\n",
       "      <td>2.96</td>\n",
       "      <td>33.00</td>\n",
       "    </tr>\n",
       "    <tr>\n",
       "      <th>7735</th>\n",
       "      <td>Pokemon Red/Pokemon Blue</td>\n",
       "      <td>Role-Playing</td>\n",
       "      <td>1996.0</td>\n",
       "      <td>11.27</td>\n",
       "      <td>8.89</td>\n",
       "      <td>10.22</td>\n",
       "      <td>1.00</td>\n",
       "      <td>31.37</td>\n",
       "    </tr>\n",
       "    <tr>\n",
       "      <th>1308</th>\n",
       "      <td>Call of Duty: Modern Warfare 3</td>\n",
       "      <td>Shooter</td>\n",
       "      <td>2011.0</td>\n",
       "      <td>15.58</td>\n",
       "      <td>11.29</td>\n",
       "      <td>0.62</td>\n",
       "      <td>3.35</td>\n",
       "      <td>30.83</td>\n",
       "    </tr>\n",
       "    <tr>\n",
       "      <th>10267</th>\n",
       "      <td>Tetris</td>\n",
       "      <td>Puzzle</td>\n",
       "      <td>1989.0</td>\n",
       "      <td>23.20</td>\n",
       "      <td>2.26</td>\n",
       "      <td>4.22</td>\n",
       "      <td>0.58</td>\n",
       "      <td>30.26</td>\n",
       "    </tr>\n",
       "    <tr>\n",
       "      <th>7078</th>\n",
       "      <td>New Super Mario Bros.</td>\n",
       "      <td>Platform</td>\n",
       "      <td>2006.0</td>\n",
       "      <td>11.38</td>\n",
       "      <td>9.23</td>\n",
       "      <td>6.50</td>\n",
       "      <td>2.90</td>\n",
       "      <td>30.01</td>\n",
       "    </tr>\n",
       "    <tr>\n",
       "      <th>1304</th>\n",
       "      <td>Call of Duty: Black Ops II</td>\n",
       "      <td>Shooter</td>\n",
       "      <td>2012.0</td>\n",
       "      <td>14.08</td>\n",
       "      <td>11.05</td>\n",
       "      <td>0.72</td>\n",
       "      <td>3.88</td>\n",
       "      <td>29.72</td>\n",
       "    </tr>\n",
       "  </tbody>\n",
       "</table>\n",
       "</div>"
      ],
      "text/plain": [
       "                                 Name         Genre    Year  NA_Sales  \\\n",
       "11635                      Wii Sports        Sports  2006.0     41.49   \n",
       "9849                Super Mario Bros.      Platform  1985.0     29.08   \n",
       "3935               Grand Theft Auto V        Action  2013.0     16.64   \n",
       "5856                   Mario Kart Wii        Racing  2008.0     15.85   \n",
       "11637               Wii Sports Resort        Sports  2009.0     15.75   \n",
       "7735         Pokemon Red/Pokemon Blue  Role-Playing  1996.0     11.27   \n",
       "1308   Call of Duty: Modern Warfare 3       Shooter  2011.0     15.58   \n",
       "10267                          Tetris        Puzzle  1989.0     23.20   \n",
       "7078            New Super Mario Bros.      Platform  2006.0     11.38   \n",
       "1304       Call of Duty: Black Ops II       Shooter  2012.0     14.08   \n",
       "\n",
       "       EU_Sales  JP_Sales  Other_Sales  Global_Sales  \n",
       "11635     29.02      3.77         8.46         82.74  \n",
       "9849       3.58      6.81         0.77         40.24  \n",
       "3935      14.58      1.03         5.52         37.78  \n",
       "5856      12.88      3.79         3.31         35.82  \n",
       "11637     11.01      3.28         2.96         33.00  \n",
       "7735       8.89     10.22         1.00         31.37  \n",
       "1308      11.29      0.62         3.35         30.83  \n",
       "10267      2.26      4.22         0.58         30.26  \n",
       "7078       9.23      6.50         2.90         30.01  \n",
       "1304      11.05      0.72         3.88         29.72  "
      ]
     },
     "execution_count": 31,
     "metadata": {},
     "output_type": "execute_result"
    }
   ],
   "source": [
    "region"
   ]
  },
  {
   "cell_type": "code",
   "execution_count": 32,
   "id": "88da7847-dea9-4948-b7f0-a4db2436c80a",
   "metadata": {},
   "outputs": [
    {
     "name": "stdout",
     "output_type": "stream",
     "text": [
      "Average rank of games released by each publisher               Publisher     Rank\n",
      "385               Palcom    277.0\n",
      "424              Red Orb    579.0\n",
      "40   Arena Entertainment    697.0\n",
      "522          UEP Systems    717.0\n",
      "533                Valve   1018.0\n",
      "..                   ...      ...\n",
      "249         Inti Creates  16475.0\n",
      "495               Takuyo  16506.0\n",
      "244   Interchannel-Holon  16513.0\n",
      "421           Rain Games  16568.0\n",
      "524    UIG Entertainment  16573.0\n",
      "\n",
      "[578 rows x 2 columns]\n"
     ]
    }
   ],
   "source": [
    "# 10.What is the average rank of games released by each publisher, and which publisher has the highest average rank?\n",
    "\n",
    "average_publisher = df.groupby('Publisher')['Rank'].mean().reset_index()\n",
    "average_publisher = average_publisher.sort_values(by= 'Rank')\n",
    "print(f\"Average rank of games released by each publisher{average_publisher}\")"
   ]
  },
  {
   "cell_type": "code",
   "execution_count": 33,
   "id": "6dd73b6e-bdc7-4ccf-b7ce-2d695c0440e1",
   "metadata": {},
   "outputs": [
    {
     "name": "stdout",
     "output_type": "stream",
     "text": [
      "The publisher with the highest average rank is THQ\n"
     ]
    }
   ],
   "source": [
    "#Highest average rank \n",
    "highest_average_rank = df.loc[average_publisher['Rank'].idxmax()]\n",
    "print(f\"The publisher with the highest average rank is {highest_average_rank['Publisher']}\")"
   ]
  }
 ],
 "metadata": {
  "kernelspec": {
   "display_name": "Python 3 (ipykernel)",
   "language": "python",
   "name": "python3"
  },
  "language_info": {
   "codemirror_mode": {
    "name": "ipython",
    "version": 3
   },
   "file_extension": ".py",
   "mimetype": "text/x-python",
   "name": "python",
   "nbconvert_exporter": "python",
   "pygments_lexer": "ipython3",
   "version": "3.12.7"
  }
 },
 "nbformat": 4,
 "nbformat_minor": 5
}
